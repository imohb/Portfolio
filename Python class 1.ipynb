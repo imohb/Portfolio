{
 "cells": [
  {
   "cell_type": "markdown",
   "id": "685dee4b",
   "metadata": {},
   "source": [
    "### Printing and Variable types in python"
   ]
  },
  {
   "cell_type": "code",
   "execution_count": 1,
   "id": "1df82d4e",
   "metadata": {},
   "outputs": [
    {
     "name": "stdout",
     "output_type": "stream",
     "text": [
      "Hello World\n"
     ]
    }
   ],
   "source": [
    "print('Hello World')"
   ]
  },
  {
   "cell_type": "code",
   "execution_count": 2,
   "id": "a815e8c9",
   "metadata": {},
   "outputs": [
    {
     "data": {
      "text/plain": [
       "5"
      ]
     },
     "execution_count": 2,
     "metadata": {},
     "output_type": "execute_result"
    }
   ],
   "source": [
    "3+2"
   ]
  },
  {
   "cell_type": "code",
   "execution_count": 3,
   "id": "54bfbba9",
   "metadata": {},
   "outputs": [
    {
     "name": "stdout",
     "output_type": "stream",
     "text": [
      "6\n"
     ]
    }
   ],
   "source": [
    "print(3+3)"
   ]
  },
  {
   "cell_type": "markdown",
   "id": "ab906609",
   "metadata": {},
   "source": [
    "#### Variable and Types"
   ]
  },
  {
   "cell_type": "markdown",
   "id": "7e1306e1",
   "metadata": {},
   "source": [
    "- numbers\n",
    "- strings\n",
    "- lists\n",
    "- sets"
   ]
  },
  {
   "cell_type": "markdown",
   "id": "ca09ed39",
   "metadata": {},
   "source": [
    "#### Numbers"
   ]
  },
  {
   "cell_type": "markdown",
   "id": "269cfc1b",
   "metadata": {},
   "source": [
    "Numbers in python are of two types, we have integers (whole numbers), and floating point numbers (decimal numbers / float)"
   ]
  },
  {
   "cell_type": "code",
   "execution_count": 4,
   "id": "75444f7e",
   "metadata": {},
   "outputs": [
    {
     "data": {
      "text/plain": [
       "3"
      ]
     },
     "execution_count": 4,
     "metadata": {},
     "output_type": "execute_result"
    }
   ],
   "source": [
    "3"
   ]
  },
  {
   "cell_type": "code",
   "execution_count": 5,
   "id": "ad71bcdf",
   "metadata": {},
   "outputs": [
    {
     "name": "stdout",
     "output_type": "stream",
     "text": [
      "30\n"
     ]
    }
   ],
   "source": [
    "num = 30\n",
    "print(num)"
   ]
  },
  {
   "cell_type": "code",
   "execution_count": 6,
   "id": "762e3c9e",
   "metadata": {},
   "outputs": [
    {
     "name": "stdout",
     "output_type": "stream",
     "text": [
      "2.0467\n"
     ]
    }
   ],
   "source": [
    "myfloat = 2.0467\n",
    "print(myfloat)"
   ]
  },
  {
   "cell_type": "code",
   "execution_count": 8,
   "id": "752afde2",
   "metadata": {},
   "outputs": [
    {
     "name": "stdout",
     "output_type": "stream",
     "text": [
      "61.400999999999996\n"
     ]
    }
   ],
   "source": [
    "result = num*myfloat\n",
    "print(result)"
   ]
  },
  {
   "cell_type": "code",
   "execution_count": 18,
   "id": "81caa8db",
   "metadata": {},
   "outputs": [
    {
     "name": "stdout",
     "output_type": "stream",
     "text": [
      "30.0\n"
     ]
    }
   ],
   "source": [
    "#changing from int to float\n",
    "new_num = float(num)\n",
    "print(new_num)"
   ]
  },
  {
   "cell_type": "code",
   "execution_count": 19,
   "id": "3c98dc00",
   "metadata": {},
   "outputs": [
    {
     "name": "stdout",
     "output_type": "stream",
     "text": [
      "2\n"
     ]
    }
   ],
   "source": [
    "#chnaging from number from float to int\n",
    "new_float = int(myfloat)\n",
    "print(new_float)"
   ]
  },
  {
   "cell_type": "code",
   "execution_count": 37,
   "id": "c9264451",
   "metadata": {},
   "outputs": [
    {
     "name": "stdout",
     "output_type": "stream",
     "text": [
      "5 6\n"
     ]
    }
   ],
   "source": [
    "#defining more than one variable on a line\n",
    "num1 , num2 , num3 = 5, 6, 10\n",
    "print(num1, num2)"
   ]
  },
  {
   "cell_type": "markdown",
   "id": "3e085ac8",
   "metadata": {},
   "source": [
    "#### strings\n",
    "\n",
    "Strings are words. strings are defined in quotation marks. either single quotation or double quotation"
   ]
  },
  {
   "cell_type": "code",
   "execution_count": 21,
   "id": "f2551ef3",
   "metadata": {},
   "outputs": [
    {
     "name": "stdout",
     "output_type": "stream",
     "text": [
      "Hello\n"
     ]
    }
   ],
   "source": [
    "mystring = \"Hello\"\n",
    "print(mystring)"
   ]
  },
  {
   "cell_type": "code",
   "execution_count": 28,
   "id": "98cb04ca",
   "metadata": {},
   "outputs": [
    {
     "name": "stdout",
     "output_type": "stream",
     "text": [
      "Hello\n"
     ]
    }
   ],
   "source": [
    "mynewstring = 'Hello'\n",
    "print(mynewstring)"
   ]
  },
  {
   "cell_type": "markdown",
   "id": "52ddadf6",
   "metadata": {},
   "source": [
    "Double quotation makes it easier to includ apostrophe in the string"
   ]
  },
  {
   "cell_type": "code",
   "execution_count": 23,
   "id": "90486484",
   "metadata": {},
   "outputs": [
    {
     "ename": "SyntaxError",
     "evalue": "invalid syntax (Temp/ipykernel_50896/1211152049.py, line 1)",
     "output_type": "error",
     "traceback": [
      "\u001b[1;36m  File \u001b[1;32m\"C:\\Users\\kawba\\AppData\\Local\\Temp/ipykernel_50896/1211152049.py\"\u001b[1;36m, line \u001b[1;32m1\u001b[0m\n\u001b[1;33m    warning = 'Don't come here'\u001b[0m\n\u001b[1;37m                   ^\u001b[0m\n\u001b[1;31mSyntaxError\u001b[0m\u001b[1;31m:\u001b[0m invalid syntax\n"
     ]
    }
   ],
   "source": [
    "warning = 'Don't come here'\n",
    "print(warning)"
   ]
  },
  {
   "cell_type": "code",
   "execution_count": 24,
   "id": "da2fed33",
   "metadata": {},
   "outputs": [
    {
     "name": "stdout",
     "output_type": "stream",
     "text": [
      "Don't come here\n"
     ]
    }
   ],
   "source": [
    "warning = \"Don't come here\"\n",
    "print(warning)"
   ]
  },
  {
   "cell_type": "code",
   "execution_count": 26,
   "id": "3a5f2d87",
   "metadata": {},
   "outputs": [
    {
     "name": "stdout",
     "output_type": "stream",
     "text": [
      "Don't come here\n"
     ]
    }
   ],
   "source": [
    "another_warning = 'Don\\'t come here'\n",
    "print(another_warning)"
   ]
  },
  {
   "cell_type": "markdown",
   "id": "a61ec7a7",
   "metadata": {},
   "source": [
    "we can perform arithmetic operations on strings"
   ]
  },
  {
   "cell_type": "code",
   "execution_count": 33,
   "id": "46e4dbda",
   "metadata": {},
   "outputs": [
    {
     "name": "stdout",
     "output_type": "stream",
     "text": [
      "Hello, Don't come here\n"
     ]
    }
   ],
   "source": [
    "greeting = mystring +', '+ warning\n",
    "print(greeting)"
   ]
  },
  {
   "cell_type": "code",
   "execution_count": 34,
   "id": "d374fd56",
   "metadata": {},
   "outputs": [
    {
     "name": "stdout",
     "output_type": "stream",
     "text": [
      "14\n"
     ]
    }
   ],
   "source": [
    "num = 4\n",
    "num5 = 10\n",
    "num6 = num +num5\n",
    "print(num6)"
   ]
  },
  {
   "cell_type": "code",
   "execution_count": 35,
   "id": "e1b012a6",
   "metadata": {},
   "outputs": [
    {
     "name": "stdout",
     "output_type": "stream",
     "text": [
      "3\n"
     ]
    }
   ],
   "source": [
    "one = 1\n",
    "two = 2\n",
    "three = one+ two\n",
    "print(three)"
   ]
  },
  {
   "cell_type": "code",
   "execution_count": 36,
   "id": "b71ec6e6",
   "metadata": {},
   "outputs": [
    {
     "name": "stdout",
     "output_type": "stream",
     "text": [
      "10 14 3 Hello\n"
     ]
    }
   ],
   "source": [
    "print(num5, num6,three, mystring)"
   ]
  },
  {
   "cell_type": "markdown",
   "id": "418289ad",
   "metadata": {},
   "source": [
    "mixing operators between numbers and strings will not work"
   ]
  },
  {
   "cell_type": "code",
   "execution_count": 39,
   "id": "c6e93616",
   "metadata": {},
   "outputs": [
    {
     "ename": "TypeError",
     "evalue": "unsupported operand type(s) for +: 'int' and 'str'",
     "output_type": "error",
     "traceback": [
      "\u001b[1;31m---------------------------------------------------------------------------\u001b[0m",
      "\u001b[1;31mTypeError\u001b[0m                                 Traceback (most recent call last)",
      "\u001b[1;32m~\\AppData\\Local\\Temp/ipykernel_50896/1722182561.py\u001b[0m in \u001b[0;36m<module>\u001b[1;34m\u001b[0m\n\u001b[0;32m      1\u001b[0m \u001b[1;31m#this is wrong\u001b[0m\u001b[1;33m\u001b[0m\u001b[1;33m\u001b[0m\u001b[1;33m\u001b[0m\u001b[0m\n\u001b[1;32m----> 2\u001b[1;33m \u001b[0mprint\u001b[0m\u001b[1;33m(\u001b[0m\u001b[0mone\u001b[0m \u001b[1;33m+\u001b[0m \u001b[0mtwo\u001b[0m \u001b[1;33m+\u001b[0m \u001b[0mmystring\u001b[0m\u001b[1;33m)\u001b[0m\u001b[1;33m\u001b[0m\u001b[1;33m\u001b[0m\u001b[0m\n\u001b[0m",
      "\u001b[1;31mTypeError\u001b[0m: unsupported operand type(s) for +: 'int' and 'str'"
     ]
    }
   ],
   "source": [
    "#this is wrong\n",
    "print(one + two + mystring)"
   ]
  },
  {
   "cell_type": "code",
   "execution_count": 46,
   "id": "5107244d",
   "metadata": {},
   "outputs": [
    {
     "name": "stdout",
     "output_type": "stream",
     "text": [
      "12Kawthar\n"
     ]
    }
   ],
   "source": [
    "#convert from int or float to string\n",
    "new_one = str(one)\n",
    "new_two = str(two)\n",
    "print(new_one + new_two +mystring)"
   ]
  },
  {
   "cell_type": "code",
   "execution_count": 47,
   "id": "399e7147",
   "metadata": {},
   "outputs": [
    {
     "name": "stdout",
     "output_type": "stream",
     "text": [
      "12\n"
     ]
    }
   ],
   "source": [
    "result = new_one + new_two\n",
    "print(result)"
   ]
  },
  {
   "cell_type": "code",
   "execution_count": 48,
   "id": "45087073",
   "metadata": {},
   "outputs": [
    {
     "ename": "TypeError",
     "evalue": "can only concatenate str (not \"int\") to str",
     "output_type": "error",
     "traceback": [
      "\u001b[1;31m---------------------------------------------------------------------------\u001b[0m",
      "\u001b[1;31mTypeError\u001b[0m                                 Traceback (most recent call last)",
      "\u001b[1;32m~\\AppData\\Local\\Temp/ipykernel_50896/1392326709.py\u001b[0m in \u001b[0;36m<module>\u001b[1;34m\u001b[0m\n\u001b[1;32m----> 1\u001b[1;33m \u001b[0mresult\u001b[0m \u001b[1;33m+\u001b[0m\u001b[1;36m3\u001b[0m\u001b[1;33m\u001b[0m\u001b[1;33m\u001b[0m\u001b[0m\n\u001b[0m",
      "\u001b[1;31mTypeError\u001b[0m: can only concatenate str (not \"int\") to str"
     ]
    }
   ],
   "source": [
    "result +3"
   ]
  },
  {
   "cell_type": "markdown",
   "id": "aaa4c449",
   "metadata": {},
   "source": [
    "#### Mini exercise\n",
    "1. create a string, an integer, and a floating point number\n",
    "- the string should be named 'mystring' and contain your name\n",
    "- the integer should be name 'myint' and should contain number 50\n",
    "- the float should be named 'myfloat' and shoud contain the number 8.98\n"
   ]
  },
  {
   "cell_type": "code",
   "execution_count": 42,
   "id": "2e983def",
   "metadata": {},
   "outputs": [],
   "source": [
    "mystring = 'Kawthar'\n",
    "myint = 50\n",
    "myfloat = 8.98"
   ]
  },
  {
   "cell_type": "markdown",
   "id": "38336712",
   "metadata": {},
   "source": [
    "2. Using print, output the statement 'My name is xxxx and i'm 16 years old'\n",
    " - given variable name (your name)\n",
    " - variabe age = 16"
   ]
  },
  {
   "cell_type": "code",
   "execution_count": 49,
   "id": "af16e08a",
   "metadata": {},
   "outputs": [
    {
     "name": "stdout",
     "output_type": "stream",
     "text": [
      "My name isKawthar and i'm 16 years old\n"
     ]
    }
   ],
   "source": [
    "name = 'Kawthar'\n",
    "age = 16\n",
    "print(\"My name is \" + name, \"and i'm\", age, \"years old\")"
   ]
  },
  {
   "cell_type": "markdown",
   "id": "c0235327",
   "metadata": {},
   "source": [
    "#### lists\n",
    "\n",
    "a list can contain any type of variable and as many variables as you want"
   ]
  },
  {
   "cell_type": "code",
   "execution_count": 50,
   "id": "f32f1800",
   "metadata": {},
   "outputs": [
    {
     "name": "stdout",
     "output_type": "stream",
     "text": [
      "[10]\n"
     ]
    }
   ],
   "source": [
    "#creating a list\n",
    "\n",
    "mylist = [] #an empty list\n",
    "new_list = ['halimat', 'Nancy', 'Firdaws', 50, 65, 13, 8.9, name, age] #list can contain any var type\n",
    "\n",
    "# we can use append to add an item to a list\n",
    "mylist.append(10)\n",
    "print(mylist)"
   ]
  },
  {
   "cell_type": "code",
   "execution_count": 60,
   "id": "8611bb25",
   "metadata": {},
   "outputs": [
    {
     "name": "stdout",
     "output_type": "stream",
     "text": [
      "[10, 12, 9, 5, 15, 20]\n"
     ]
    }
   ],
   "source": [
    "grades = [10, 12, 9, 5, 15]\n",
    "grades.append(20)\n",
    "print(grades)"
   ]
  },
  {
   "cell_type": "code",
   "execution_count": 66,
   "id": "5b40b294",
   "metadata": {},
   "outputs": [
    {
     "name": "stdout",
     "output_type": "stream",
     "text": [
      "['a', 'e', 'i', 'o', 'u']\n"
     ]
    }
   ],
   "source": [
    "#insert at specific index\n",
    "vowel = ['a', 'e', 'i','u']\n",
    "vowel.insert(3, 'o')\n",
    "print(vowel)"
   ]
  },
  {
   "cell_type": "code",
   "execution_count": 61,
   "id": "a403365a",
   "metadata": {},
   "outputs": [
    {
     "name": "stdout",
     "output_type": "stream",
     "text": [
      "[10, 12, 5, 15, 20]\n"
     ]
    }
   ],
   "source": [
    "#remove item using the item itself\n",
    "grades.remove(9)\n",
    "print(grades)"
   ]
  },
  {
   "cell_type": "code",
   "execution_count": 64,
   "id": "fb5a01fd",
   "metadata": {},
   "outputs": [
    {
     "name": "stdout",
     "output_type": "stream",
     "text": [
      "[10, 12, 5, 20]\n"
     ]
    }
   ],
   "source": [
    "#remove item using index\n",
    "del grades[3]\n",
    "print(grades)"
   ]
  },
  {
   "cell_type": "code",
   "execution_count": 65,
   "id": "f8a170e6",
   "metadata": {},
   "outputs": [
    {
     "name": "stdout",
     "output_type": "stream",
     "text": [
      "[10, 12, 5]\n"
     ]
    }
   ],
   "source": [
    "#remove the last element\n",
    "grades.pop()\n",
    "print(grades)"
   ]
  },
  {
   "cell_type": "code",
   "execution_count": 51,
   "id": "0b854282",
   "metadata": {},
   "outputs": [
    {
     "name": "stdout",
     "output_type": "stream",
     "text": [
      "[10, 'Funmilayo']\n"
     ]
    }
   ],
   "source": [
    "mylist.append('Funmilayo')\n",
    "print(mylist)"
   ]
  },
  {
   "cell_type": "code",
   "execution_count": 52,
   "id": "367e4af4",
   "metadata": {},
   "outputs": [
    {
     "name": "stdout",
     "output_type": "stream",
     "text": [
      "[10, 'Funmilayo', 16]\n"
     ]
    }
   ],
   "source": [
    "mylist.append(age)\n",
    "print(mylist)"
   ]
  },
  {
   "cell_type": "markdown",
   "id": "2b415f2a",
   "metadata": {},
   "source": [
    "indexing starts from zero. this means to refrence an item in a list, the first item takes index zero"
   ]
  },
  {
   "cell_type": "code",
   "execution_count": 79,
   "id": "b6475f51",
   "metadata": {},
   "outputs": [
    {
     "name": "stdout",
     "output_type": "stream",
     "text": [
      "10 16\n",
      "['Funmilayo', 16]\n",
      "[10, 'Funmilayo', 16]\n",
      "[10, 'Funmilayo']\n"
     ]
    }
   ],
   "source": [
    "print(mylist[0], mylist[2]) #print element in index 0 and 2\n",
    "print(mylist[1:3])#prints elements from index 1 to indes(3-1)\n",
    "print(mylist[0:]) #prints all the elements in the list\n",
    "print(mylist[:2]) #prints from beginning of the list to index (2-1)"
   ]
  },
  {
   "cell_type": "code",
   "execution_count": 57,
   "id": "aa1082b8",
   "metadata": {},
   "outputs": [
    {
     "ename": "IndexError",
     "evalue": "list index out of range",
     "output_type": "error",
     "traceback": [
      "\u001b[1;31m---------------------------------------------------------------------------\u001b[0m",
      "\u001b[1;31mIndexError\u001b[0m                                Traceback (most recent call last)",
      "\u001b[1;32m~\\AppData\\Local\\Temp/ipykernel_50896/3241831141.py\u001b[0m in \u001b[0;36m<module>\u001b[1;34m\u001b[0m\n\u001b[0;32m      1\u001b[0m \u001b[1;31m#this index is out of range and will give an error\u001b[0m\u001b[1;33m\u001b[0m\u001b[1;33m\u001b[0m\u001b[1;33m\u001b[0m\u001b[0m\n\u001b[1;32m----> 2\u001b[1;33m \u001b[0mprint\u001b[0m\u001b[1;33m(\u001b[0m\u001b[0mmylist\u001b[0m\u001b[1;33m[\u001b[0m\u001b[1;36m5\u001b[0m\u001b[1;33m]\u001b[0m\u001b[1;33m)\u001b[0m\u001b[1;33m\u001b[0m\u001b[1;33m\u001b[0m\u001b[0m\n\u001b[0m",
      "\u001b[1;31mIndexError\u001b[0m: list index out of range"
     ]
    }
   ],
   "source": [
    "#this index is out of range and will give an error\n",
    "print(mylist[5])"
   ]
  },
  {
   "cell_type": "code",
   "execution_count": 77,
   "id": "46dbbdf7",
   "metadata": {},
   "outputs": [
    {
     "name": "stdout",
     "output_type": "stream",
     "text": [
      "[10, 'Funmilayo', 16, 'a', 'e', 'i', 'o', 'u']\n"
     ]
    }
   ],
   "source": [
    "print(mylist + vowel) #we can add two lists together"
   ]
  },
  {
   "cell_type": "code",
   "execution_count": 78,
   "id": "bf244b51",
   "metadata": {},
   "outputs": [
    {
     "name": "stdout",
     "output_type": "stream",
     "text": [
      "[10, 'Funmilayo', 16, 10, 'Funmilayo', 16]\n"
     ]
    }
   ],
   "source": [
    "print(mylist*2) #prints mylist twice"
   ]
  },
  {
   "cell_type": "code",
   "execution_count": 80,
   "id": "f3921854",
   "metadata": {},
   "outputs": [
    {
     "name": "stdout",
     "output_type": "stream",
     "text": [
      "[10, 'Funmilayo', 16]\n"
     ]
    }
   ],
   "source": [
    "print(mylist)"
   ]
  },
  {
   "cell_type": "markdown",
   "id": "f7bb9d9a",
   "metadata": {},
   "source": [
    "#### mini exercise\n",
    "\n",
    "1. add numbers or strings to the correct list using the append method\n",
    "2. remove the last element from each of the lists using different methods\n",
    "3. justify your choice of methods in 2 above\n",
    "4. print out the last two elements in any of the list using slicing"
   ]
  },
  {
   "cell_type": "code",
   "execution_count": 81,
   "id": "c7d3470c",
   "metadata": {},
   "outputs": [],
   "source": [
    "strings = []\n",
    "numbers = []"
   ]
  },
  {
   "cell_type": "markdown",
   "id": "320d5286",
   "metadata": {},
   "source": []
  }
 ],
 "metadata": {
  "kernelspec": {
   "display_name": "Python 3 (ipykernel)",
   "language": "python",
   "name": "python3"
  },
  "language_info": {
   "codemirror_mode": {
    "name": "ipython",
    "version": 3
   },
   "file_extension": ".py",
   "mimetype": "text/x-python",
   "name": "python",
   "nbconvert_exporter": "python",
   "pygments_lexer": "ipython3",
   "version": "3.9.12"
  }
 },
 "nbformat": 4,
 "nbformat_minor": 5
}
