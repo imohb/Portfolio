{
 "cells": [
  {
   "cell_type": "markdown",
   "id": "07db20af",
   "metadata": {},
   "source": [
    "Questions\n",
    "1.\tWhat is an array?\n",
    "2.\tHow is array different from a list?\n",
    "3.\tCompare tuples with array and list\n",
    "4.\tWrite a program that checks whether a number is even or odd\n",
    "5.\tWrite a program that checks if a number is negative of positive\n",
    "6.\tlist 3 error types you've encountered in your code (and explain what they mean)\n",
    "7.\tRead about nested if\n",
    "\n",
    "Question 1\n",
    "\n",
    "An array is a data structure that can store a fixed-size collection of elements of the same data. It is used to store a collection of data or as a collection of variables of the same type. It requires a specific function from an array module; NumPy package.\n",
    "\n",
    "Question 2\n",
    "\n",
    "Differences between list and array\n",
    "A list is a data structure that's built into Python and holds a collection of items. They are enclosed in square brackets, ordered and mutable. Their elements do not need to be unique and consists of different data types e.g., you can combine strings, integers and objects in the same list. It can’t handle numerical operations and they can’t efficiently store large amount of data. \n",
    "An array is also a data structure that stores a collection of items. Like lists, arrays are ordered, mutable, enclosed in square brackets, and able to store non-unique items. But when it comes to the array's ability to store different data types, you need to import either an array module or a NumPy package. Arrays store data compactly and are great for numerical operations.\n",
    "\n",
    "Question 3\n",
    "\n",
    "A list and array are similar in that they are an ordered collection of items, can be changed or replaced but arrays can store similar data types and are better at processing many values quickly. while a list can store more than one data type. However, a tuple is an unordered collection of items. The Items in the tuple cannot be changed or replaced.\n"
   ]
  },
  {
   "cell_type": "markdown",
   "id": "de7e905f",
   "metadata": {},
   "source": [
    "Question 4"
   ]
  },
  {
   "cell_type": "code",
   "execution_count": 1,
   "id": "32d2a355",
   "metadata": {},
   "outputs": [
    {
     "name": "stdout",
     "output_type": "stream",
     "text": [
      "This is an even number\n"
     ]
    }
   ],
   "source": [
    "odd_number= [1, 3, 7]\n",
    "even_number = [2,6,8]\n",
    "if 4 in odd_number:\n",
    "    print('This is an odd number')\n",
    "elif 6 in even_number: \n",
    "    print('This is an even number')\n",
    "else:\n",
    "    print('The value is neither even nor odd')"
   ]
  },
  {
   "cell_type": "code",
   "execution_count": 3,
   "id": "0b62c151",
   "metadata": {},
   "outputs": [
    {
     "name": "stdout",
     "output_type": "stream",
     "text": [
      "This is an odd number\n"
     ]
    }
   ],
   "source": [
    "odd_number= [1, 3, 7]\n",
    "even_number = [2,6,8]\n",
    "if 3 in odd_number:\n",
    "    print('This is an odd number')\n",
    "else: \n",
    "    print('This is not an odd number')"
   ]
  },
  {
   "cell_type": "code",
   "execution_count": 2,
   "id": "23408253",
   "metadata": {},
   "outputs": [
    {
     "name": "stdout",
     "output_type": "stream",
     "text": [
      "The value is neither even nor odd\n"
     ]
    }
   ],
   "source": [
    "odd_number= [1, 3, 7]\n",
    "even_number = [2,6,8]\n",
    "if 2 in odd_number:\n",
    "    print('This is an odd number')\n",
    "elif 4 in even_number: \n",
    "    print('This is an even number')\n",
    "else:\n",
    "    print('The value is neither even nor odd')"
   ]
  },
  {
   "cell_type": "code",
   "execution_count": 4,
   "id": "7b52251e",
   "metadata": {},
   "outputs": [
    {
     "name": "stdout",
     "output_type": "stream",
     "text": [
      "this is an Even no\n"
     ]
    }
   ],
   "source": [
    "num= 60\n",
    "if (num % 2) ==0:\n",
    "    print('this is an Even no')\n",
    "else:\n",
    "    print('this is an odd no')"
   ]
  },
  {
   "cell_type": "markdown",
   "id": "7490b6b7",
   "metadata": {},
   "source": [
    "Question 5"
   ]
  },
  {
   "cell_type": "code",
   "execution_count": 5,
   "id": "5dd2cb35",
   "metadata": {},
   "outputs": [
    {
     "name": "stdout",
     "output_type": "stream",
     "text": [
      "This is a positive number\n"
     ]
    }
   ],
   "source": [
    "positive_number= [1, 2, 3, 4]\n",
    "negative_number= [-1, -2, -3, -4]\n",
    "if 2 in positive_number:\n",
    "    print('This is a positive number')\n",
    "else:\n",
    "    print('The value is not positive')"
   ]
  },
  {
   "cell_type": "code",
   "execution_count": 7,
   "id": "ca111dd8",
   "metadata": {},
   "outputs": [
    {
     "name": "stdout",
     "output_type": "stream",
     "text": [
      "This is a negative number\n"
     ]
    }
   ],
   "source": [
    "positive_number= [1, 2, 3, 4]\n",
    "negative_number= [-1, -2, -3, -4]\n",
    "if -2 in negative_number:\n",
    "    print('This is a negative number')\n",
    "else:\n",
    "    print('The value is not negative')"
   ]
  },
  {
   "cell_type": "code",
   "execution_count": 8,
   "id": "4735bc59",
   "metadata": {},
   "outputs": [
    {
     "name": "stdout",
     "output_type": "stream",
     "text": [
      "This is a positive number\n",
      "This is a negative number\n"
     ]
    }
   ],
   "source": [
    "positive_number= [1, 2, 3, 4]\n",
    "negative_number= [-1, -2, -3, -4]\n",
    "if 2 in positive_number:\n",
    "    print('This is a positive number')\n",
    "if -2 in negative_number:\n",
    "    print('This is a negative number')\n",
    "    "
   ]
  },
  {
   "cell_type": "markdown",
   "id": "79061609",
   "metadata": {},
   "source": [
    "Question 6\n",
    "\n",
    "Indentation error: When there is an incorrect indention; It could be an incorrect addition of comma, or inconsistent use of spaces \n",
    "Item is not defined:  Error “Item category & is not defined” is received when trying to create a delivery with a batch item. It is thrown when an item is not defined or properly defined.\n",
    "Syntax error: Missing a syntax in the code or when the proper syntax of the language is not followed then a syntax error is thrown e.g., missing bracket/parentheses in call to “print”.\n",
    "\n",
    "Question 7\n",
    "\n",
    "Nested IF: A nested if statement is an if statement that is nested (meaning, inside) another if statement or if/else statement. Those statements test true/false conditions and then take an appropriate action. e.g. as below;\n"
   ]
  },
  {
   "cell_type": "code",
   "execution_count": 9,
   "id": "62daf03c",
   "metadata": {},
   "outputs": [
    {
     "name": "stdout",
     "output_type": "stream",
     "text": [
      "i is greater than 15\n",
      "i'm in else Block\n",
      "i'm not in if and not in else Block\n"
     ]
    }
   ],
   "source": [
    "i = 20; \n",
    "if (i < 15): \n",
    "    print (\"i is smaller than 15\") \n",
    "    print (\"i'm in if Block\") \n",
    "else: \n",
    "    print (\"i is greater than 15\") \n",
    "    print (\"i'm in else Block\") \n",
    "print (\"i'm not in if and not in else Block\") "
   ]
  }
 ],
 "metadata": {
  "kernelspec": {
   "display_name": "Python 3 (ipykernel)",
   "language": "python",
   "name": "python3"
  },
  "language_info": {
   "codemirror_mode": {
    "name": "ipython",
    "version": 3
   },
   "file_extension": ".py",
   "mimetype": "text/x-python",
   "name": "python",
   "nbconvert_exporter": "python",
   "pygments_lexer": "ipython3",
   "version": "3.9.12"
  }
 },
 "nbformat": 4,
 "nbformat_minor": 5
}
